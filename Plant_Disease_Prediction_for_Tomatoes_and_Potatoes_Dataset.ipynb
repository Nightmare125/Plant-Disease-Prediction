{
  "nbformat": 4,
  "nbformat_minor": 0,
  "metadata": {
    "colab": {
      "provenance": [],
      "authorship_tag": "ABX9TyOO+iXRIkdMA63fNdMVNc6a",
      "include_colab_link": true
    },
    "kernelspec": {
      "name": "python3",
      "display_name": "Python 3"
    },
    "language_info": {
      "name": "python"
    }
  },
  "cells": [
    {
      "cell_type": "markdown",
      "metadata": {
        "id": "view-in-github",
        "colab_type": "text"
      },
      "source": [
        "<a href=\"https://colab.research.google.com/github/Nightmare125/Plant-Disease-Prediction/blob/main/Plant_Disease_Prediction_for_Tomatoes_and_Potatoes_Dataset.ipynb\" target=\"_parent\"><img src=\"https://colab.research.google.com/assets/colab-badge.svg\" alt=\"Open In Colab\"/></a>"
      ]
    },
    {
      "cell_type": "code",
      "execution_count": null,
      "metadata": {
        "id": "3vTE6mohqe0F"
      },
      "outputs": [],
      "source": [
        "from google.colab import drive\n",
        "import os\n",
        "import numpy as np\n",
        "import tensorflow as tf\n",
        "import matplotlib.pyplot as plt\n",
        "from tensorflow.keras.preprocessing.image import ImageDataGenerator\n",
        "from tensorflow.keras.models import Sequential\n",
        "from tensorflow.keras.layers import Conv2D, MaxPooling2D, Flatten, Dense, Dropout\n",
        "from tensorflow.keras.preprocessing import image"
      ]
    },
    {
      "cell_type": "markdown",
      "source": [
        "Mount Drive"
      ],
      "metadata": {
        "id": "5U28J_KAvrfA"
      }
    },
    {
      "cell_type": "code",
      "source": [
        "drive.mount('/content/drive')"
      ],
      "metadata": {
        "colab": {
          "base_uri": "https://localhost:8080/"
        },
        "id": "JJqKPd4Bvve7",
        "outputId": "27f016a5-b228-475b-9f09-e4cfb690781a"
      },
      "execution_count": null,
      "outputs": [
        {
          "output_type": "stream",
          "name": "stdout",
          "text": [
            "Mounted at /content/drive\n"
          ]
        }
      ]
    },
    {
      "cell_type": "markdown",
      "source": [
        "Load the Dataset"
      ],
      "metadata": {
        "id": "y_PTu7yTv9Fl"
      }
    },
    {
      "cell_type": "code",
      "source": [
        "dataset_path = '/content/drive/MyDrive/Plant Disease Prediction for Tomatoes and Potatoes Dataset'"
      ],
      "metadata": {
        "id": "8NeCZZ28v8Xd"
      },
      "execution_count": null,
      "outputs": []
    },
    {
      "cell_type": "markdown",
      "source": [
        "Parameters"
      ],
      "metadata": {
        "id": "Zo0CC3rExQLf"
      }
    },
    {
      "cell_type": "code",
      "source": [
        "img_height, img_width = 150, 150\n",
        "batch_size = 32\n"
      ],
      "metadata": {
        "id": "WR93-F6nxSZQ"
      },
      "execution_count": null,
      "outputs": []
    },
    {
      "cell_type": "markdown",
      "source": [
        "Data augmentation and normalization for training and validation"
      ],
      "metadata": {
        "id": "6cMlp8gmwf_x"
      }
    },
    {
      "cell_type": "code",
      "source": [
        "train_datagen = ImageDataGenerator(\n",
        "    rescale=1./255,\n",
        "    shear_range=0.2,\n",
        "    zoom_range=0.2,\n",
        "    horizontal_flip=True,\n",
        "    validation_split=0.2)  # 20% of data for validation\n",
        "\n",
        "train_generator = train_datagen.flow_from_directory(\n",
        "    dataset_path,\n",
        "    target_size=(img_height, img_width),\n",
        "    batch_size=batch_size,\n",
        "    class_mode='categorical',  # For multi-class classification\n",
        "    subset='training')  # Set as training data\n",
        "\n",
        "validation_generator = train_datagen.flow_from_directory(\n",
        "    dataset_path,\n",
        "    target_size=(img_height, img_width),\n",
        "    batch_size=batch_size,\n",
        "    class_mode='categorical',  # For multi-class classification\n",
        "    subset='validation')  # Set as validation data"
      ],
      "metadata": {
        "colab": {
          "base_uri": "https://localhost:8080/"
        },
        "id": "OvMJ7lKjwmiY",
        "outputId": "a49f5eb5-6494-4385-bc38-dc1bee2d8bfe"
      },
      "execution_count": null,
      "outputs": [
        {
          "output_type": "stream",
          "name": "stdout",
          "text": [
            "Found 480 images belonging to 2 classes.\n",
            "Found 120 images belonging to 2 classes.\n"
          ]
        }
      ]
    },
    {
      "cell_type": "markdown",
      "source": [
        "BUILDING OF THE CNN MODEL"
      ],
      "metadata": {
        "id": "Vpq7q6eSyEWY"
      }
    },
    {
      "cell_type": "code",
      "source": [
        "num_classes = len(train_generator.class_indices)  # Number of classes\n",
        "\n",
        "model = Sequential([\n",
        "    Conv2D(32, (3, 3), activation='relu', input_shape=(img_height, img_width, 3)),\n",
        "    MaxPooling2D(pool_size=(2, 2)),\n",
        "\n",
        "    Conv2D(64, (3, 3), activation='relu'),\n",
        "    MaxPooling2D(pool_size=(2, 2)),\n",
        "\n",
        "    Conv2D(128, (3, 3), activation='relu'),\n",
        "    MaxPooling2D(pool_size=(2, 2)),\n",
        "\n",
        "    Flatten(),\n",
        "    Dense(128, activation='relu'),\n",
        "    Dropout(0.5),\n",
        "    Dense(num_classes, activation='softmax')  # Multi-class classification\n",
        "])\n",
        "\n",
        "model.compile(optimizer='adam', loss='categorical_crossentropy', metrics=['accuracy'])\n"
      ],
      "metadata": {
        "id": "017x_nGRyKUk"
      },
      "execution_count": null,
      "outputs": []
    },
    {
      "cell_type": "markdown",
      "source": [
        "Training of the Model"
      ],
      "metadata": {
        "id": "00Wv27ogybdt"
      }
    },
    {
      "cell_type": "code",
      "source": [
        "epochs = 10\n",
        "\n",
        "history = model.fit(\n",
        "    train_generator,\n",
        "    steps_per_epoch=train_generator.samples // batch_size,\n",
        "    validation_data=validation_generator,\n",
        "    validation_steps=validation_generator.samples // batch_size,\n",
        "    epochs=epochs\n",
        ")\n"
      ],
      "metadata": {
        "colab": {
          "base_uri": "https://localhost:8080/"
        },
        "id": "Tx4YaN6Myepc",
        "outputId": "8477781f-5bc9-40a4-e84f-cc674469bb32"
      },
      "execution_count": null,
      "outputs": [
        {
          "output_type": "stream",
          "name": "stdout",
          "text": [
            "Epoch 1/10\n",
            "15/15 [==============================] - 206s 14s/step - loss: 0.9188 - accuracy: 0.5146 - val_loss: 0.6554 - val_accuracy: 0.8854\n",
            "Epoch 2/10\n",
            "15/15 [==============================] - 30s 2s/step - loss: 0.5431 - accuracy: 0.6896 - val_loss: 0.3095 - val_accuracy: 0.9583\n",
            "Epoch 3/10\n",
            "15/15 [==============================] - 30s 2s/step - loss: 0.2076 - accuracy: 0.9312 - val_loss: 0.1182 - val_accuracy: 0.9583\n",
            "Epoch 4/10\n",
            "15/15 [==============================] - 30s 2s/step - loss: 0.1217 - accuracy: 0.9667 - val_loss: 0.0414 - val_accuracy: 1.0000\n",
            "Epoch 5/10\n",
            "15/15 [==============================] - 29s 2s/step - loss: 0.0707 - accuracy: 0.9854 - val_loss: 0.0072 - val_accuracy: 1.0000\n",
            "Epoch 6/10\n",
            "15/15 [==============================] - 29s 2s/step - loss: 0.0811 - accuracy: 0.9792 - val_loss: 0.0129 - val_accuracy: 1.0000\n",
            "Epoch 7/10\n",
            "15/15 [==============================] - 28s 2s/step - loss: 0.0751 - accuracy: 0.9792 - val_loss: 0.0188 - val_accuracy: 1.0000\n",
            "Epoch 8/10\n",
            "15/15 [==============================] - 27s 2s/step - loss: 0.0297 - accuracy: 0.9937 - val_loss: 0.0342 - val_accuracy: 0.9896\n",
            "Epoch 9/10\n",
            "15/15 [==============================] - 31s 2s/step - loss: 0.0497 - accuracy: 0.9854 - val_loss: 0.0149 - val_accuracy: 1.0000\n",
            "Epoch 10/10\n",
            "15/15 [==============================] - 28s 2s/step - loss: 0.0285 - accuracy: 0.9917 - val_loss: 0.0113 - val_accuracy: 1.0000\n"
          ]
        }
      ]
    },
    {
      "cell_type": "markdown",
      "source": [
        "Evaluate and Save the Model"
      ],
      "metadata": {
        "id": "3IKpjkGj09BO"
      }
    },
    {
      "cell_type": "code",
      "source": [
        "loss, accuracy = model.evaluate(validation_generator)\n",
        "print(f'Validation Loss: {loss}')\n",
        "print(f'Validation Accuracy: {accuracy}')\n",
        "\n",
        "# Save the model\n",
        "model.save('/content/drive/My Drive/Plant_Disease_Model.h5')"
      ],
      "metadata": {
        "colab": {
          "base_uri": "https://localhost:8080/"
        },
        "id": "zM_aeaCc08ZQ",
        "outputId": "062f7d87-e668-4fc3-e8b0-05853e7c8016"
      },
      "execution_count": null,
      "outputs": [
        {
          "output_type": "stream",
          "name": "stdout",
          "text": [
            "4/4 [==============================] - 4s 809ms/step - loss: 0.0064 - accuracy: 1.0000\n",
            "Validation Loss: 0.006379858590662479\n",
            "Validation Accuracy: 1.0\n"
          ]
        },
        {
          "output_type": "stream",
          "name": "stderr",
          "text": [
            "/usr/local/lib/python3.10/dist-packages/keras/src/engine/training.py:3103: UserWarning: You are saving your model as an HDF5 file via `model.save()`. This file format is considered legacy. We recommend using instead the native Keras format, e.g. `model.save('my_model.keras')`.\n",
            "  saving_api.save_model(\n"
          ]
        }
      ]
    },
    {
      "cell_type": "markdown",
      "source": [
        "Visualization  "
      ],
      "metadata": {
        "id": "dzVgLqVu1NpD"
      }
    },
    {
      "cell_type": "markdown",
      "source": [
        "training & validation accuracy values"
      ],
      "metadata": {
        "id": "grT3z1OZ1bv3"
      }
    },
    {
      "cell_type": "code",
      "source": [
        "plt.plot(history.history['accuracy'])\n",
        "plt.plot(history.history['val_accuracy'])\n",
        "plt.title('Model accuracy')\n",
        "plt.ylabel('Accuracy')\n",
        "plt.xlabel('Epoch')\n",
        "plt.legend(['Train', 'Validation'], loc='upper left')\n",
        "plt.show()\n"
      ],
      "metadata": {
        "colab": {
          "base_uri": "https://localhost:8080/",
          "height": 472
        },
        "id": "qzhkMZzd1SG8",
        "outputId": "6b53d2d0-f989-4c34-8357-75dad245c96f"
      },
      "execution_count": null,
      "outputs": [
        {
          "output_type": "display_data",
          "data": {
            "text/plain": [
              "<Figure size 640x480 with 1 Axes>"
            ],
            "image/png": "[encoded data removed]"
          },
          "metadata": {}
        }
      ]
    },
    {
      "cell_type": "markdown",
      "source": [
        "training & validation loss values"
      ],
      "metadata": {
        "id": "n0WPUA8j1oDh"
      }
    },
    {
      "cell_type": "code",
      "source": [
        "plt.plot(history.history['loss'])\n",
        "plt.plot(history.history['val_loss'])\n",
        "plt.title('Model loss')\n",
        "plt.ylabel('Loss')\n",
        "plt.xlabel('Epoch')\n",
        "plt.legend(['Train', 'Validation'], loc='upper left')\n",
        "plt.show()"
      ],
      "metadata": {
        "colab": {
          "base_uri": "https://localhost:8080/",
          "height": 472
        },
        "id": "UDr4EHc-1pAU",
        "outputId": "47607553-37e7-4351-8dac-ec1855558102"
      },
      "execution_count": null,
      "outputs": [
        {
          "output_type": "display_data",
          "data": {
            "text/plain": [
              "<Figure size 640x480 with 1 Axes>"
            ],
            "image/png": "[encoded data removed]"
          },
          "metadata": {}
        }
      ]
    },
    {
      "cell_type": "markdown",
      "source": [
        "Predictions"
      ],
      "metadata": {
        "id": "-L3Vw1bs2ENW"
      }
    },
    {
      "cell_type": "markdown",
      "source": [
        "Load an image to test"
      ],
      "metadata": {
        "id": "IPlp2mLz2JpW"
      }
    },
    {
      "cell_type": "code",
      "source": [
        "img_path = '/content/drive/MyDrive/tomato.jpg'\n",
        "img = image.load_img(img_path, target_size=(img_height, img_width))\n",
        "img_array = image.img_to_array(img)\n",
        "img_array = np.expand_dims(img_array, axis=0)\n",
        "img_array /= 255.0"
      ],
      "metadata": {
        "id": "lduDJAuj2FB7"
      },
      "execution_count": null,
      "outputs": []
    },
    {
      "cell_type": "markdown",
      "source": [
        "Predict"
      ],
      "metadata": {
        "id": "e2BNH8J33GGL"
      }
    },
    {
      "cell_type": "code",
      "source": [
        "prediction = model.predict(img_array)\n",
        "predicted_class = np.argmax(prediction, axis=1)\n",
        "class_labels = {v: k for k, v in train_generator.class_indices.items()}\n",
        "predicted_label = class_labels[predicted_class[0]]\n",
        "print(f'Predicted label: {predicted_label}')"
      ],
      "metadata": {
        "colab": {
          "base_uri": "https://localhost:8080/"
        },
        "id": "rrKKtkQz2LCY",
        "outputId": "c2824df4-ab09-47d4-b243-2b013194f4ed"
      },
      "execution_count": null,
      "outputs": [
        {
          "output_type": "stream",
          "name": "stdout",
          "text": [
            "1/1 [==============================] - 0s 43ms/step\n",
            "Predicted label: Tomato___Bacterial_spot\n"
          ]
        }
      ]
    },
    {
      "cell_type": "markdown",
      "source": [
        "Export the Trained Model"
      ],
      "metadata": {
        "id": "qvUOV6w9FcMB"
      }
    },
    {
      "cell_type": "markdown",
      "source": [
        "Load the model"
      ],
      "metadata": {
        "id": "Q6KPLj-KFj8M"
      }
    },
    {
      "cell_type": "code",
      "source": [
        "model = tf.keras.models.load_model('/content/drive/MyDrive/Plant_Disease_Model.h5')"
      ],
      "metadata": {
        "id": "eQVNiXacFbvR"
      },
      "execution_count": null,
      "outputs": []
    },
    {
      "cell_type": "markdown",
      "source": [
        "Convert the model to TensorFlow Lite format so as to enable implementation in android"
      ],
      "metadata": {
        "id": "3dy8KLvtF0rL"
      }
    },
    {
      "cell_type": "code",
      "source": [
        "converter = tf.lite.TFLiteConverter.from_keras_model(model)\n",
        "tflite_model = converter.convert()"
      ],
      "metadata": {
        "id": "kJ9wWfz5F7ab"
      },
      "execution_count": null,
      "outputs": []
    },
    {
      "cell_type": "markdown",
      "source": [
        "Save the TensorFlow Lite model"
      ],
      "metadata": {
        "id": "rxYd4HRKGB4U"
      }
    },
    {
      "cell_type": "code",
      "source": [
        "with open('/content/drive/My Drive/plant_disease_model.tflite', 'wb') as f:\n",
        "    f.write(tflite_model)"
      ],
      "metadata": {
        "id": "26NRfvp7GBmH"
      },
      "execution_count": null,
      "outputs": []
    }
  ]
}